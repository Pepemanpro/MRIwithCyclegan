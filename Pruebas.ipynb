{
 "cells": [
  {
   "cell_type": "code",
   "execution_count": 4,
   "metadata": {},
   "outputs": [
    {
     "name": "stderr",
     "output_type": "stream",
     "text": [
      "Downloading...\n",
      "From: https://drive.google.com/uc?id=1BN6f37BHAAyOwm7vFwh1oj2Jc-QMLt2p\n",
      "To: /home/franklin_pupils/yefersonValencia/MRIwithCyclegan/Notebook_Preprocesamiento_MRI.ipynb\n",
      "100%|██████████| 11.3k/11.3k [00:00<00:00, 282kB/s]\n"
     ]
    }
   ],
   "source": [
    "import gdown\n",
    "\n",
    "def descargar_desde_drive(id_archivo, nombre_destino):\n",
    "    url = f'https://drive.google.com/uc?id={id_archivo}'\n",
    "    gdown.download(url, nombre_destino, quiet=False)\n",
    "\n",
    "id_archivo = '1BN6f37BHAAyOwm7vFwh1oj2Jc-QMLt2p'\n",
    "nombre_destino = 'Notebook_Preprocesamiento_MRI.ipynb'\n",
    "descargar_desde_drive(id_archivo, nombre_destino)\n"
   ]
  }
 ],
 "metadata": {
  "kernelspec": {
   "display_name": "Python 3",
   "language": "python",
   "name": "python3"
  },
  "language_info": {
   "codemirror_mode": {
    "name": "ipython",
    "version": 3
   },
   "file_extension": ".py",
   "mimetype": "text/x-python",
   "name": "python",
   "nbconvert_exporter": "python",
   "pygments_lexer": "ipython3",
   "version": "3.11.0rc1"
  }
 },
 "nbformat": 4,
 "nbformat_minor": 2
}
